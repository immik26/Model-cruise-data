{
  "nbformat": 4,
  "nbformat_minor": 0,
  "metadata": {
    "colab": {
      "provenance": [],
      "include_colab_link": true
    },
    "kernelspec": {
      "name": "python3",
      "display_name": "Python 3"
    },
    "language_info": {
      "name": "python"
    }
  },
  "cells": [
    {
      "cell_type": "markdown",
      "metadata": {
        "id": "view-in-github",
        "colab_type": "text"
      },
      "source": [
        "<a href=\"https://colab.research.google.com/github/immik26/Model-cruise-data/blob/main/cruise_data.ipynb\" target=\"_parent\"><img src=\"https://colab.research.google.com/assets/colab-badge.svg\" alt=\"Open In Colab\"/></a>"
      ]
    },
    {
      "cell_type": "code",
      "execution_count": 136,
      "metadata": {
        "colab": {
          "base_uri": "https://localhost:8080/"
        },
        "id": "Bx4A6pIw6PzU",
        "outputId": "d325f3d1-0db1-4242-df4b-ae9b1b198d5d"
      },
      "outputs": [
        {
          "output_type": "stream",
          "name": "stdout",
          "text": [
            "Requirement already satisfied: pyarrow in /usr/local/lib/python3.10/dist-packages (9.0.0)\n",
            "Requirement already satisfied: numpy>=1.16.6 in /usr/local/lib/python3.10/dist-packages (from pyarrow) (1.23.5)\n"
          ]
        }
      ],
      "source": [
        "!pip install pyarrow"
      ]
    },
    {
      "cell_type": "code",
      "source": [
        "!apt-get install openjdk-8-jdk-headless -qq > /dev/null\n",
        "!wget -q https://downloads.apache.org/spark/spark-3.3.3/spark-3.3.3-bin-hadoop3.tgz\n",
        "!tar xf spark-3.3.3-bin-hadoop3.tgz\n",
        "!pip install -q findspark"
      ],
      "metadata": {
        "id": "2O2eVgJD6SLs"
      },
      "execution_count": 137,
      "outputs": []
    },
    {
      "cell_type": "code",
      "source": [
        "!ls /usr/lib/jvm/"
      ],
      "metadata": {
        "colab": {
          "base_uri": "https://localhost:8080/"
        },
        "id": "eDVVuhjC83ON",
        "outputId": "bf11b7cf-7f80-4431-9b3e-d300a09b4e1f"
      },
      "execution_count": 138,
      "outputs": [
        {
          "output_type": "stream",
          "name": "stdout",
          "text": [
            "java-1.11.0-openjdk-amd64  java-1.8.0-openjdk-amd64\n",
            "java-11-openjdk-amd64\t   java-8-openjdk-amd64\n"
          ]
        }
      ]
    },
    {
      "cell_type": "code",
      "source": [
        "import os\n",
        "os.environ[\"JAVA_HOME\"] = \"/usr/lib/jvm/java-8-openjdk-amd64\"\n",
        "os.environ[\"SPARK_HOME\"] = \"/content/spark-3.3.3-bin-hadoop3\""
      ],
      "metadata": {
        "id": "zECWKmE46YGP"
      },
      "execution_count": 139,
      "outputs": []
    },
    {
      "cell_type": "code",
      "source": [
        "import findspark\n",
        "findspark.init()\n",
        "from pyspark.sql import SparkSession\n",
        "spark = SparkSession.builder.master(\"local[*]\").getOrCreate()"
      ],
      "metadata": {
        "id": "6ybf2qVy6aQ7"
      },
      "execution_count": 140,
      "outputs": []
    },
    {
      "cell_type": "code",
      "source": [
        "from pyspark.sql.functions import *"
      ],
      "metadata": {
        "id": "cmlBSpAv6b9F"
      },
      "execution_count": 141,
      "outputs": []
    },
    {
      "cell_type": "code",
      "source": [
        "import pyspark"
      ],
      "metadata": {
        "id": "rzZFU4Fz6dl-"
      },
      "execution_count": 142,
      "outputs": []
    },
    {
      "cell_type": "code",
      "source": [
        "df=spark.read.csv(\"/content/cruise_ship_info (1).csv\",inferSchema=True,header=True)"
      ],
      "metadata": {
        "id": "bo77QU6B6fFn"
      },
      "execution_count": 143,
      "outputs": []
    },
    {
      "cell_type": "code",
      "source": [
        "df.show()"
      ],
      "metadata": {
        "colab": {
          "base_uri": "https://localhost:8080/"
        },
        "id": "Lj7TMbRV6yyI",
        "outputId": "482a133c-d7db-406f-eb16-93dbc7a737cc"
      },
      "execution_count": 144,
      "outputs": [
        {
          "output_type": "stream",
          "name": "stdout",
          "text": [
            "+-----------+-----------+---+------------------+----------+------+------+-----------------+----+\n",
            "|  Ship_name|Cruise_line|Age|           Tonnage|passengers|length|cabins|passenger_density|crew|\n",
            "+-----------+-----------+---+------------------+----------+------+------+-----------------+----+\n",
            "|    Journey|    Azamara|  6|30.276999999999997|      6.94|  5.94|  3.55|            42.64|3.55|\n",
            "|      Quest|    Azamara|  6|30.276999999999997|      6.94|  5.94|  3.55|            42.64|3.55|\n",
            "|Celebration|   Carnival| 26|            47.262|     14.86|  7.22|  7.43|             31.8| 6.7|\n",
            "|   Conquest|   Carnival| 11|             110.0|     29.74|  9.53| 14.88|            36.99|19.1|\n",
            "|    Destiny|   Carnival| 17|           101.353|     26.42|  8.92| 13.21|            38.36|10.0|\n",
            "|    Ecstasy|   Carnival| 22|            70.367|     20.52|  8.55|  10.2|            34.29| 9.2|\n",
            "|    Elation|   Carnival| 15|            70.367|     20.52|  8.55|  10.2|            34.29| 9.2|\n",
            "|    Fantasy|   Carnival| 23|            70.367|     20.56|  8.55| 10.22|            34.23| 9.2|\n",
            "|Fascination|   Carnival| 19|            70.367|     20.52|  8.55|  10.2|            34.29| 9.2|\n",
            "|    Freedom|   Carnival|  6|110.23899999999999|      37.0|  9.51| 14.87|            29.79|11.5|\n",
            "|      Glory|   Carnival| 10|             110.0|     29.74|  9.51| 14.87|            36.99|11.6|\n",
            "|    Holiday|   Carnival| 28|            46.052|     14.52|  7.27|  7.26|            31.72| 6.6|\n",
            "|Imagination|   Carnival| 18|            70.367|     20.52|  8.55|  10.2|            34.29| 9.2|\n",
            "|Inspiration|   Carnival| 17|            70.367|     20.52|  8.55|  10.2|            34.29| 9.2|\n",
            "|     Legend|   Carnival| 11|              86.0|     21.24|  9.63| 10.62|            40.49| 9.3|\n",
            "|   Liberty*|   Carnival|  8|             110.0|     29.74|  9.51| 14.87|            36.99|11.6|\n",
            "|    Miracle|   Carnival|  9|              88.5|     21.24|  9.63| 10.62|            41.67|10.3|\n",
            "|   Paradise|   Carnival| 15|            70.367|     20.52|  8.55|  10.2|            34.29| 9.2|\n",
            "|      Pride|   Carnival| 12|              88.5|     21.24|  9.63| 11.62|            41.67| 9.3|\n",
            "|  Sensation|   Carnival| 20|            70.367|     20.52|  8.55|  10.2|            34.29| 9.2|\n",
            "+-----------+-----------+---+------------------+----------+------+------+-----------------+----+\n",
            "only showing top 20 rows\n",
            "\n"
          ]
        }
      ]
    },
    {
      "cell_type": "code",
      "source": [
        "df.printSchema()"
      ],
      "metadata": {
        "colab": {
          "base_uri": "https://localhost:8080/"
        },
        "id": "rge9MSVo60QZ",
        "outputId": "701a1566-236c-45b0-d760-6d0730c4a164"
      },
      "execution_count": 145,
      "outputs": [
        {
          "output_type": "stream",
          "name": "stdout",
          "text": [
            "root\n",
            " |-- Ship_name: string (nullable = true)\n",
            " |-- Cruise_line: string (nullable = true)\n",
            " |-- Age: integer (nullable = true)\n",
            " |-- Tonnage: double (nullable = true)\n",
            " |-- passengers: double (nullable = true)\n",
            " |-- length: double (nullable = true)\n",
            " |-- cabins: double (nullable = true)\n",
            " |-- passenger_density: double (nullable = true)\n",
            " |-- crew: double (nullable = true)\n",
            "\n"
          ]
        }
      ]
    },
    {
      "cell_type": "code",
      "source": [
        "from pyspark.ml.linalg import Vectors\n",
        "from pyspark.ml.feature import VectorAssembler"
      ],
      "metadata": {
        "id": "tYS5W5tx7AyW"
      },
      "execution_count": 146,
      "outputs": []
    },
    {
      "cell_type": "code",
      "source": [
        "feat = VectorAssembler(inputCols=[\"Age\",\"Tonnage\",\"passengers\",\"length\",\"cabins\",\"passenger_density\"],outputCol=\"Member\")"
      ],
      "metadata": {
        "id": "570EI0zg7Tff"
      },
      "execution_count": 147,
      "outputs": []
    },
    {
      "cell_type": "code",
      "source": [
        "output=feat.transform(df)"
      ],
      "metadata": {
        "id": "j09Rzgwk7kdT"
      },
      "execution_count": 148,
      "outputs": []
    },
    {
      "cell_type": "code",
      "source": [
        "output.show()"
      ],
      "metadata": {
        "colab": {
          "base_uri": "https://localhost:8080/"
        },
        "id": "ZSEkxETX7px4",
        "outputId": "c8934edb-c8c5-473a-dd7f-aa270009f521"
      },
      "execution_count": 149,
      "outputs": [
        {
          "output_type": "stream",
          "name": "stdout",
          "text": [
            "+-----------+-----------+---+------------------+----------+------+------+-----------------+----+--------------------+\n",
            "|  Ship_name|Cruise_line|Age|           Tonnage|passengers|length|cabins|passenger_density|crew|              Member|\n",
            "+-----------+-----------+---+------------------+----------+------+------+-----------------+----+--------------------+\n",
            "|    Journey|    Azamara|  6|30.276999999999997|      6.94|  5.94|  3.55|            42.64|3.55|[6.0,30.276999999...|\n",
            "|      Quest|    Azamara|  6|30.276999999999997|      6.94|  5.94|  3.55|            42.64|3.55|[6.0,30.276999999...|\n",
            "|Celebration|   Carnival| 26|            47.262|     14.86|  7.22|  7.43|             31.8| 6.7|[26.0,47.262,14.8...|\n",
            "|   Conquest|   Carnival| 11|             110.0|     29.74|  9.53| 14.88|            36.99|19.1|[11.0,110.0,29.74...|\n",
            "|    Destiny|   Carnival| 17|           101.353|     26.42|  8.92| 13.21|            38.36|10.0|[17.0,101.353,26....|\n",
            "|    Ecstasy|   Carnival| 22|            70.367|     20.52|  8.55|  10.2|            34.29| 9.2|[22.0,70.367,20.5...|\n",
            "|    Elation|   Carnival| 15|            70.367|     20.52|  8.55|  10.2|            34.29| 9.2|[15.0,70.367,20.5...|\n",
            "|    Fantasy|   Carnival| 23|            70.367|     20.56|  8.55| 10.22|            34.23| 9.2|[23.0,70.367,20.5...|\n",
            "|Fascination|   Carnival| 19|            70.367|     20.52|  8.55|  10.2|            34.29| 9.2|[19.0,70.367,20.5...|\n",
            "|    Freedom|   Carnival|  6|110.23899999999999|      37.0|  9.51| 14.87|            29.79|11.5|[6.0,110.23899999...|\n",
            "|      Glory|   Carnival| 10|             110.0|     29.74|  9.51| 14.87|            36.99|11.6|[10.0,110.0,29.74...|\n",
            "|    Holiday|   Carnival| 28|            46.052|     14.52|  7.27|  7.26|            31.72| 6.6|[28.0,46.052,14.5...|\n",
            "|Imagination|   Carnival| 18|            70.367|     20.52|  8.55|  10.2|            34.29| 9.2|[18.0,70.367,20.5...|\n",
            "|Inspiration|   Carnival| 17|            70.367|     20.52|  8.55|  10.2|            34.29| 9.2|[17.0,70.367,20.5...|\n",
            "|     Legend|   Carnival| 11|              86.0|     21.24|  9.63| 10.62|            40.49| 9.3|[11.0,86.0,21.24,...|\n",
            "|   Liberty*|   Carnival|  8|             110.0|     29.74|  9.51| 14.87|            36.99|11.6|[8.0,110.0,29.74,...|\n",
            "|    Miracle|   Carnival|  9|              88.5|     21.24|  9.63| 10.62|            41.67|10.3|[9.0,88.5,21.24,9...|\n",
            "|   Paradise|   Carnival| 15|            70.367|     20.52|  8.55|  10.2|            34.29| 9.2|[15.0,70.367,20.5...|\n",
            "|      Pride|   Carnival| 12|              88.5|     21.24|  9.63| 11.62|            41.67| 9.3|[12.0,88.5,21.24,...|\n",
            "|  Sensation|   Carnival| 20|            70.367|     20.52|  8.55|  10.2|            34.29| 9.2|[20.0,70.367,20.5...|\n",
            "+-----------+-----------+---+------------------+----------+------+------+-----------------+----+--------------------+\n",
            "only showing top 20 rows\n",
            "\n"
          ]
        }
      ]
    },
    {
      "cell_type": "code",
      "source": [
        "final_df=output.select([\"Member\",\"crew\"])"
      ],
      "metadata": {
        "id": "7v7FqHky7rb-"
      },
      "execution_count": 150,
      "outputs": []
    },
    {
      "cell_type": "code",
      "source": [
        "final_df.show()"
      ],
      "metadata": {
        "colab": {
          "base_uri": "https://localhost:8080/"
        },
        "id": "uKReNSGV8CQi",
        "outputId": "1b6c340b-3ba6-431f-bf68-b7d1d6b58280"
      },
      "execution_count": 151,
      "outputs": [
        {
          "output_type": "stream",
          "name": "stdout",
          "text": [
            "+--------------------+----+\n",
            "|              Member|crew|\n",
            "+--------------------+----+\n",
            "|[6.0,30.276999999...|3.55|\n",
            "|[6.0,30.276999999...|3.55|\n",
            "|[26.0,47.262,14.8...| 6.7|\n",
            "|[11.0,110.0,29.74...|19.1|\n",
            "|[17.0,101.353,26....|10.0|\n",
            "|[22.0,70.367,20.5...| 9.2|\n",
            "|[15.0,70.367,20.5...| 9.2|\n",
            "|[23.0,70.367,20.5...| 9.2|\n",
            "|[19.0,70.367,20.5...| 9.2|\n",
            "|[6.0,110.23899999...|11.5|\n",
            "|[10.0,110.0,29.74...|11.6|\n",
            "|[28.0,46.052,14.5...| 6.6|\n",
            "|[18.0,70.367,20.5...| 9.2|\n",
            "|[17.0,70.367,20.5...| 9.2|\n",
            "|[11.0,86.0,21.24,...| 9.3|\n",
            "|[8.0,110.0,29.74,...|11.6|\n",
            "|[9.0,88.5,21.24,9...|10.3|\n",
            "|[15.0,70.367,20.5...| 9.2|\n",
            "|[12.0,88.5,21.24,...| 9.3|\n",
            "|[20.0,70.367,20.5...| 9.2|\n",
            "+--------------------+----+\n",
            "only showing top 20 rows\n",
            "\n"
          ]
        }
      ]
    },
    {
      "cell_type": "code",
      "source": [
        "train,test=final_df.randomSplit([0.79,0.21])"
      ],
      "metadata": {
        "id": "7FPtbLWU8EZv"
      },
      "execution_count": 152,
      "outputs": []
    },
    {
      "cell_type": "code",
      "source": [
        "train.show()"
      ],
      "metadata": {
        "colab": {
          "base_uri": "https://localhost:8080/"
        },
        "id": "tQ9eYLDU8P1a",
        "outputId": "bfbcc1ce-1a60-4b5c-9f11-9f505e7d25b1"
      },
      "execution_count": 153,
      "outputs": [
        {
          "output_type": "stream",
          "name": "stdout",
          "text": [
            "+--------------------+-----+\n",
            "|              Member| crew|\n",
            "+--------------------+-----+\n",
            "|[4.0,220.0,54.0,1...| 21.0|\n",
            "|[5.0,115.0,35.74,...| 12.2|\n",
            "|[5.0,122.0,28.5,1...|  6.7|\n",
            "|[5.0,133.5,39.59,...|13.13|\n",
            "|[5.0,160.0,36.34,...| 13.6|\n",
            "|[6.0,30.276999999...| 3.55|\n",
            "|[6.0,30.276999999...| 3.55|\n",
            "|[6.0,90.0,20.0,9....|  9.0|\n",
            "|[6.0,93.0,23.94,9...|11.09|\n",
            "|[6.0,110.23899999...| 11.5|\n",
            "|[6.0,112.0,38.0,9...| 10.9|\n",
            "|[6.0,113.0,37.82,...| 12.0|\n",
            "|[6.0,158.0,43.7,1...| 13.6|\n",
            "|[7.0,89.6,25.5,9....| 9.87|\n",
            "|[7.0,116.0,31.0,9...| 12.0|\n",
            "|[7.0,158.0,43.7,1...| 13.6|\n",
            "|[8.0,91.0,22.44,9...| 11.0|\n",
            "|[8.0,110.0,29.74,...| 11.6|\n",
            "|[9.0,59.058,17.0,...|  7.4|\n",
            "|[9.0,85.0,19.68,9...| 8.69|\n",
            "+--------------------+-----+\n",
            "only showing top 20 rows\n",
            "\n"
          ]
        }
      ]
    },
    {
      "cell_type": "code",
      "source": [
        "test.show()"
      ],
      "metadata": {
        "colab": {
          "base_uri": "https://localhost:8080/"
        },
        "id": "vSaPomYv8Rp3",
        "outputId": "0ac93a8c-6da9-4526-c53d-2928b99812ff"
      },
      "execution_count": 154,
      "outputs": [
        {
          "output_type": "stream",
          "name": "stdout",
          "text": [
            "+--------------------+----+\n",
            "|              Member|crew|\n",
            "+--------------------+----+\n",
            "|[5.0,86.0,21.04,9...| 8.0|\n",
            "|[8.0,77.499,19.5,...| 9.0|\n",
            "|[9.0,81.0,21.44,9...|10.0|\n",
            "|[9.0,110.0,29.74,...|11.6|\n",
            "|[10.0,58.825,15.6...| 7.0|\n",
            "|[10.0,77.0,20.16,...| 9.0|\n",
            "|[10.0,81.76899999...|8.42|\n",
            "|[11.0,86.0,21.24,...| 9.3|\n",
            "|[11.0,90.0,22.4,9...|11.0|\n",
            "|[11.0,91.62700000...| 9.0|\n",
            "|[11.0,110.0,29.74...|19.1|\n",
            "|[12.0,42.0,14.8,7...| 6.8|\n",
            "|[12.0,58.6,15.66,...| 7.0|\n",
            "|[13.0,61.0,13.8,7...| 6.0|\n",
            "|[14.0,30.27699999...|3.73|\n",
            "|[15.0,83.338,17.5...|9.45|\n",
            "|[17.0,70.367,20.5...| 9.2|\n",
            "|[17.0,74.137,19.5...| 7.6|\n",
            "|[17.0,75.166,19.2...|7.66|\n",
            "|[18.0,70.367,20.5...| 9.2|\n",
            "+--------------------+----+\n",
            "only showing top 20 rows\n",
            "\n"
          ]
        }
      ]
    },
    {
      "cell_type": "code",
      "source": [
        "from pyspark.ml.regression import LinearRegression"
      ],
      "metadata": {
        "id": "nlsJ4QtA8Sw_"
      },
      "execution_count": 155,
      "outputs": []
    },
    {
      "cell_type": "code",
      "source": [
        "reg = LinearRegression(featuresCol=\"Member\",labelCol=\"crew\")"
      ],
      "metadata": {
        "id": "Met0lyVt8YC5"
      },
      "execution_count": 156,
      "outputs": []
    },
    {
      "cell_type": "code",
      "source": [
        "reg=reg.fit(train)"
      ],
      "metadata": {
        "id": "WetpdPTb8i5a"
      },
      "execution_count": 157,
      "outputs": []
    },
    {
      "cell_type": "code",
      "source": [
        "reg.coefficients"
      ],
      "metadata": {
        "colab": {
          "base_uri": "https://localhost:8080/"
        },
        "id": "1nnyW-2k8ro1",
        "outputId": "0f82c49d-8904-40c4-b6da-e0755420ae6e"
      },
      "execution_count": 158,
      "outputs": [
        {
          "output_type": "execute_result",
          "data": {
            "text/plain": [
              "DenseVector([-0.0157, 0.0137, -0.14, 0.4593, 0.7399, -0.0039])"
            ]
          },
          "metadata": {},
          "execution_count": 158
        }
      ]
    },
    {
      "cell_type": "code",
      "source": [
        "reg.intercept"
      ],
      "metadata": {
        "colab": {
          "base_uri": "https://localhost:8080/"
        },
        "id": "KdLHDK8m8u2Z",
        "outputId": "da8701a9-01a6-4023-90dd-ca857b906fe4"
      },
      "execution_count": 159,
      "outputs": [
        {
          "output_type": "execute_result",
          "data": {
            "text/plain": [
              "-0.48338745676169725"
            ]
          },
          "metadata": {},
          "execution_count": 159
        }
      ]
    },
    {
      "cell_type": "code",
      "source": [
        "train_sum=reg.summary"
      ],
      "metadata": {
        "id": "ZO3qark582Gj"
      },
      "execution_count": 160,
      "outputs": []
    },
    {
      "cell_type": "code",
      "source": [
        "train_sum.rootMeanSquaredError"
      ],
      "metadata": {
        "colab": {
          "base_uri": "https://localhost:8080/"
        },
        "id": "4M-fm7HxUrqr",
        "outputId": "fc3b65b0-8b86-4790-ace7-e4ef3259b722"
      },
      "execution_count": 161,
      "outputs": [
        {
          "output_type": "execute_result",
          "data": {
            "text/plain": [
              "0.809913131210546"
            ]
          },
          "metadata": {},
          "execution_count": 161
        }
      ]
    },
    {
      "cell_type": "code",
      "source": [
        "train_sum.r2"
      ],
      "metadata": {
        "colab": {
          "base_uri": "https://localhost:8080/"
        },
        "id": "scqXJZP_86Z2",
        "outputId": "f21e71bd-6971-499e-ff13-009a6df22046"
      },
      "execution_count": 162,
      "outputs": [
        {
          "output_type": "execute_result",
          "data": {
            "text/plain": [
              "0.9496410327496956"
            ]
          },
          "metadata": {},
          "execution_count": 162
        }
      ]
    },
    {
      "cell_type": "code",
      "source": [
        "train_sum.r2adj"
      ],
      "metadata": {
        "colab": {
          "base_uri": "https://localhost:8080/"
        },
        "outputId": "81f9661b-e3f9-446b-d42a-b7532aa08f9d",
        "id": "qi3DBCCG8_A1"
      },
      "execution_count": 163,
      "outputs": [
        {
          "output_type": "execute_result",
          "data": {
            "text/plain": [
              "0.9471230843871804"
            ]
          },
          "metadata": {},
          "execution_count": 163
        }
      ]
    },
    {
      "cell_type": "code",
      "source": [
        "pred=reg.evaluate(test)"
      ],
      "metadata": {
        "id": "ZuNE8e2l8-Yg"
      },
      "execution_count": 164,
      "outputs": []
    },
    {
      "cell_type": "code",
      "source": [
        "pred.predictions.show()"
      ],
      "metadata": {
        "colab": {
          "base_uri": "https://localhost:8080/"
        },
        "id": "q7Kd_gZd9HcU",
        "outputId": "62456633-5497-4a7b-9eaa-6ec39d314b52"
      },
      "execution_count": 165,
      "outputs": [
        {
          "output_type": "stream",
          "name": "stdout",
          "text": [
            "+--------------------+----+------------------+\n",
            "|              Member|crew|        prediction|\n",
            "+--------------------+----+------------------+\n",
            "|[5.0,86.0,21.04,9...| 8.0| 9.366812608977343|\n",
            "|[8.0,77.499,19.5,...| 9.0| 8.708609185245153|\n",
            "|[9.0,81.0,21.44,9...|10.0| 9.493096226418313|\n",
            "|[9.0,110.0,29.74,...|11.6|11.943041389746242|\n",
            "|[10.0,58.825,15.6...| 7.0| 7.270983924302795|\n",
            "|[10.0,77.0,20.16,...| 9.0|  8.58416172665555|\n",
            "|[10.0,81.76899999...|8.42| 8.956380124759638|\n",
            "|[11.0,86.0,21.24,...| 9.3| 9.666287939514127|\n",
            "|[11.0,90.0,22.4,9...|11.0| 9.998037787441222|\n",
            "|[11.0,91.62700000...| 9.0| 9.379456547687653|\n",
            "|[11.0,110.0,29.74...|19.1| 11.92370294377876|\n",
            "|[12.0,42.0,14.8,7...| 6.8| 6.468445090357514|\n",
            "|[12.0,58.6,15.66,...| 7.0| 7.367096628522447|\n",
            "|[13.0,61.0,13.8,7...| 6.0| 6.712931561296372|\n",
            "|[14.0,30.27699999...|3.73|3.8455347845581187|\n",
            "|[15.0,83.338,17.5...|9.45| 8.683836526365901|\n",
            "|[17.0,70.367,20.5...| 9.2| 8.677251329472472|\n",
            "|[17.0,74.137,19.5...| 7.6| 8.804077578886552|\n",
            "|[17.0,75.166,19.2...|7.66| 8.359526430927135|\n",
            "|[18.0,70.367,20.5...| 9.2| 8.661586064413887|\n",
            "+--------------------+----+------------------+\n",
            "only showing top 20 rows\n",
            "\n"
          ]
        }
      ]
    },
    {
      "cell_type": "code",
      "source": [
        "from pyspark.ml.evaluation import RegressionEvaluator"
      ],
      "metadata": {
        "id": "3SdjWUiFRuGU"
      },
      "execution_count": 166,
      "outputs": []
    },
    {
      "cell_type": "code",
      "source": [
        "pred_eval=RegressionEvaluator(predictionCol=\"prediction\",labelCol=\"crew\",metricName=\"r2\")"
      ],
      "metadata": {
        "id": "vKR9mib9R4wl"
      },
      "execution_count": 167,
      "outputs": []
    },
    {
      "cell_type": "code",
      "source": [
        "pred_eval.evaluate(pred.predictions)"
      ],
      "metadata": {
        "colab": {
          "base_uri": "https://localhost:8080/"
        },
        "id": "-JqP7TgvR6pZ",
        "outputId": "98629687-91db-49f8-aa63-0d2875434015"
      },
      "execution_count": 168,
      "outputs": [
        {
          "output_type": "execute_result",
          "data": {
            "text/plain": [
              "0.766077494617274"
            ]
          },
          "metadata": {},
          "execution_count": 168
        }
      ]
    },
    {
      "cell_type": "code",
      "source": [
        "from pyspark.ml.regression import DecisionTreeRegressor"
      ],
      "metadata": {
        "id": "oRXqEuqvSAqQ"
      },
      "execution_count": 169,
      "outputs": []
    },
    {
      "cell_type": "code",
      "source": [
        "dt = DecisionTreeRegressor(featuresCol=\"Member\",labelCol=\"crew\")"
      ],
      "metadata": {
        "id": "-WDKv4lZSBwd"
      },
      "execution_count": 170,
      "outputs": []
    },
    {
      "cell_type": "code",
      "source": [
        "dt=dt.fit(train)"
      ],
      "metadata": {
        "id": "lbBIxk05SBsw"
      },
      "execution_count": 171,
      "outputs": []
    },
    {
      "cell_type": "code",
      "source": [
        "dtpred_test = dt.transform(test)"
      ],
      "metadata": {
        "id": "yNlop4wnSBql"
      },
      "execution_count": 172,
      "outputs": []
    },
    {
      "cell_type": "code",
      "source": [
        "dtpred.show()"
      ],
      "metadata": {
        "colab": {
          "base_uri": "https://localhost:8080/"
        },
        "id": "yhcUrK2gSBn9",
        "outputId": "11071af1-8a4c-4d01-f593-64e39fc8eddf"
      },
      "execution_count": 173,
      "outputs": [
        {
          "output_type": "stream",
          "name": "stdout",
          "text": [
            "+--------------------+-----+------------------+\n",
            "|              Member| crew|        prediction|\n",
            "+--------------------+-----+------------------+\n",
            "|[4.0,220.0,54.0,1...| 21.0|              21.0|\n",
            "|[5.0,86.0,21.04,9...|  8.0|  9.50409090909091|\n",
            "|[5.0,115.0,35.74,...| 12.2|11.993333333333334|\n",
            "|[5.0,122.0,28.5,1...|  6.7|6.9750000000000005|\n",
            "|[5.0,133.5,39.59,...|13.13|12.521249999999998|\n",
            "|[5.0,160.0,36.34,...| 13.6|12.521249999999998|\n",
            "|[6.0,30.276999999...| 3.55| 3.663333333333333|\n",
            "|[6.0,30.276999999...| 3.55| 3.663333333333333|\n",
            "|[6.0,90.0,20.0,9....|  9.0|  9.50409090909091|\n",
            "|[6.0,93.0,23.94,9...|11.09|10.823333333333332|\n",
            "|[6.0,112.0,38.0,9...| 10.9|11.466666666666669|\n",
            "|[6.0,113.0,37.82,...| 12.0|11.993333333333334|\n",
            "|[6.0,158.0,43.7,1...| 13.6|12.521249999999998|\n",
            "|[7.0,89.6,25.5,9....| 9.87|  9.50409090909091|\n",
            "|[7.0,116.0,31.0,9...| 12.0|11.993333333333334|\n",
            "|[8.0,91.0,22.44,9...| 11.0|10.823333333333332|\n",
            "|[8.0,110.0,29.74,...| 11.6|11.466666666666669|\n",
            "|[9.0,59.058,17.0,...|  7.4|6.9750000000000005|\n",
            "|[9.0,88.5,21.24,9...| 10.3|  9.50409090909091|\n",
            "|[9.0,90.09,25.01,...| 8.69|  9.50409090909091|\n",
            "+--------------------+-----+------------------+\n",
            "only showing top 20 rows\n",
            "\n"
          ]
        }
      ]
    },
    {
      "cell_type": "code",
      "source": [
        "dtpred_test= dt.transform(train)"
      ],
      "metadata": {
        "id": "hqj4nsbdSBkv"
      },
      "execution_count": 174,
      "outputs": []
    },
    {
      "cell_type": "code",
      "source": [
        "evaluator = RegressionEvaluator(\n",
        "    labelCol=\"crew\", predictionCol=\"prediction\", metricName=\"rmse\")\n",
        "rmse = evaluator.evaluate(dtpred)\n",
        "print (\"Root Mean Squared Error (RMSE) on train data = %g\" % rmse)"
      ],
      "metadata": {
        "colab": {
          "base_uri": "https://localhost:8080/"
        },
        "id": "VElwFXYwSfcO",
        "outputId": "ce59ac8a-cbaf-4509-807a-618c52c39c78"
      },
      "execution_count": 175,
      "outputs": [
        {
          "output_type": "stream",
          "name": "stdout",
          "text": [
            "Root Mean Squared Error (RMSE) on train data = 0.616493\n"
          ]
        }
      ]
    },
    {
      "cell_type": "code",
      "source": [
        "evaluator = RegressionEvaluator(\n",
        "    labelCol=\"crew\", predictionCol=\"prediction\", metricName=\"r2\")\n",
        "r2 = evaluator.evaluate(dtpred)\n",
        "print (\"r2 on train data = %g\" % r2)"
      ],
      "metadata": {
        "colab": {
          "base_uri": "https://localhost:8080/"
        },
        "id": "54t_uCW3SBdM",
        "outputId": "3722ee86-b7d8-45b5-f15d-95a80d1de288"
      },
      "execution_count": 176,
      "outputs": [
        {
          "output_type": "stream",
          "name": "stdout",
          "text": [
            "r2 on train data = 0.97118\n"
          ]
        }
      ]
    },
    {
      "cell_type": "code",
      "source": [
        "evaluator = RegressionEvaluator(\n",
        "    labelCol=\"crew\", predictionCol=\"prediction\", metricName=\"rmse\")\n",
        "rmse = evaluator.evaluate(dtpred_test)\n",
        "print (\"Root Mean Squared Error (RMSE) on test data = %g\" % rmse)"
      ],
      "metadata": {
        "colab": {
          "base_uri": "https://localhost:8080/"
        },
        "id": "kEExjCbjSQ37",
        "outputId": "04ba55f6-a3c2-4c02-f535-b1d0c7926124"
      },
      "execution_count": 177,
      "outputs": [
        {
          "output_type": "stream",
          "name": "stdout",
          "text": [
            "Root Mean Squared Error (RMSE) on test data = 0.575119\n"
          ]
        }
      ]
    },
    {
      "cell_type": "code",
      "source": [
        "evaluator = RegressionEvaluator(\n",
        "    labelCol=\"crew\", predictionCol=\"prediction\", metricName=\"r2\")\n",
        "r2 = evaluator.evaluate(dtpred_test)\n",
        "print (\"r2 on test data = %g\" % r2)"
      ],
      "metadata": {
        "colab": {
          "base_uri": "https://localhost:8080/"
        },
        "id": "8P-btuVLSQug",
        "outputId": "6677b53c-47a3-444e-85eb-777c7134f875"
      },
      "execution_count": 178,
      "outputs": [
        {
          "output_type": "stream",
          "name": "stdout",
          "text": [
            "r2 on test data = 0.974607\n"
          ]
        }
      ]
    },
    {
      "cell_type": "code",
      "source": [
        "from pyspark.ml.regression import RandomForestRegressor"
      ],
      "metadata": {
        "id": "xECcFDJ8-3wY"
      },
      "execution_count": 179,
      "outputs": []
    },
    {
      "cell_type": "code",
      "source": [
        "rf = RandomForestRegressor(featuresCol=\"Member\",labelCol=\"crew\" )"
      ],
      "metadata": {
        "id": "r4642QBk-3sz"
      },
      "execution_count": 180,
      "outputs": []
    },
    {
      "cell_type": "code",
      "source": [
        "rfmodel = rf.fit(train)"
      ],
      "metadata": {
        "id": "N55QXKoX-3rN"
      },
      "execution_count": 181,
      "outputs": []
    },
    {
      "cell_type": "code",
      "source": [
        "predictions = rfmodel.transform(test)"
      ],
      "metadata": {
        "id": "yBvipCNq-3pW"
      },
      "execution_count": 182,
      "outputs": []
    },
    {
      "cell_type": "code",
      "source": [
        "evaluator = RegressionEvaluator(\n",
        "    labelCol=\"crew\", predictionCol=\"prediction\", metricName=\"r2\")\n",
        "r2 = evaluator.evaluate(predictions)\n",
        "print (\"r2 on test data = %g\" % r2)"
      ],
      "metadata": {
        "colab": {
          "base_uri": "https://localhost:8080/"
        },
        "id": "Mx6M_aAV-3m9",
        "outputId": "88661811-1045-43cb-87e8-23bcd19a5cc4"
      },
      "execution_count": 183,
      "outputs": [
        {
          "output_type": "stream",
          "name": "stdout",
          "text": [
            "r2 on test data = 0.742583\n"
          ]
        }
      ]
    },
    {
      "cell_type": "code",
      "source": [
        "predictions_train = rfmodel.transform(train)"
      ],
      "metadata": {
        "id": "aF49tCOw-3kL"
      },
      "execution_count": 184,
      "outputs": []
    },
    {
      "cell_type": "code",
      "source": [
        "evaluator = RegressionEvaluator(\n",
        "    labelCol=\"crew\", predictionCol=\"prediction\", metricName=\"r2\")\n",
        "r2 = evaluator.evaluate(predictions_train)\n",
        "print (\"r2 on train data = %g\" % r2)"
      ],
      "metadata": {
        "colab": {
          "base_uri": "https://localhost:8080/"
        },
        "id": "X8FaRdVB-3dt",
        "outputId": "c1cf4f1e-7776-4152-924e-ddb369aaae9a"
      },
      "execution_count": 185,
      "outputs": [
        {
          "output_type": "stream",
          "name": "stdout",
          "text": [
            "r2 on train data = 0.964053\n"
          ]
        }
      ]
    }
  ]
}